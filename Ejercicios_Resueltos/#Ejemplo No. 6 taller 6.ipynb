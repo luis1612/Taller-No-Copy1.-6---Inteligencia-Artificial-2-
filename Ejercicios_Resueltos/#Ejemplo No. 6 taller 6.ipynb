{
 "cells": [
  {
   "cell_type": "code",
   "execution_count": null,
   "metadata": {},
   "outputs": [],
   "source": [
    "\n",
    "#Filtrado de imagen con un kernel 3x3.\n",
    "\n",
    "\n",
    "import cv2\n",
    "import numpy as np\n",
    "\n",
    "image_file = ('martillo.jpg')\n",
    "img = cv2.imread(image_file)\n",
    "\n",
    "kernel = np.ones((5, 5), np.float32) / 25 # cambiando los datos del kernel kernel = np.ones((3, 3), np.float32) / 9\n",
    "dst = cv2.filter2D(src=img, ddepth=-1, kernel=kernel)\n",
    "\n",
    "# Show\n",
    "cv2.imshow('Original', img)\n",
    "cv2.imshow('Filtered', dst)\n",
    "cv2.waitKey(0)\n",
    "cv2.destroyAllWindows()"
   ]
  },
  {
   "cell_type": "code",
   "execution_count": null,
   "metadata": {},
   "outputs": [],
   "source": []
  }
 ],
 "metadata": {
  "kernelspec": {
   "display_name": "Python 3",
   "language": "python",
   "name": "python3"
  },
  "language_info": {
   "codemirror_mode": {
    "name": "ipython",
    "version": 3
   },
   "file_extension": ".py",
   "mimetype": "text/x-python",
   "name": "python",
   "nbconvert_exporter": "python",
   "pygments_lexer": "ipython3",
   "version": "3.6.4"
  }
 },
 "nbformat": 4,
 "nbformat_minor": 2
}
