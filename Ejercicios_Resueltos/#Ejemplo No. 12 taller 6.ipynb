{
 "cells": [
  {
   "cell_type": "code",
   "execution_count": null,
   "metadata": {},
   "outputs": [],
   "source": [
    "\n",
    "#Detector de bordes Canny a través de la webcam.\n",
    "import cv2\n",
    "import numpy as np\n",
    "\n",
    "#webcam_id = 0\n",
    "cap = cv2.VideoCapture('cartago.jpg')\n",
    "\n",
    "# Cany edge detector thresholds\n",
    "threshold_one = 50\n",
    "threshold_two = 150\n",
    "aperture_size = 3\n",
    "\n",
    "while(cap.isOpened()):\n",
    "    # Capture frame-by-frame\n",
    "    ret, frame = cap.read()\n",
    "    if ret == True:\n",
    "        # Operations on the frame\n",
    "        edges = cv2.Canny(frame, threshold_one, threshold_two, aperture_size)\n",
    "        \n",
    "        # Display\n",
    "        cv2.imshow(\"Original\", frame)\n",
    "        cv2.imshow(\"Canny edge detection\", edges)\n",
    "\n",
    "        # Exit?\n",
    "        if cv2.waitKey(1) & 0xFF == ord('q'):\n",
    "            break\n",
    "    else:\n",
    "            break\n",
    "\n",
    "# Release everything if job is finished\n",
    "cap.release()\n",
    "cv2.waitKey(0)\n",
    "cv2.destroyAllWindows()"
   ]
  },
  {
   "cell_type": "code",
   "execution_count": null,
   "metadata": {},
   "outputs": [],
   "source": []
  }
 ],
 "metadata": {
  "kernelspec": {
   "display_name": "Python 3",
   "language": "python",
   "name": "python3"
  },
  "language_info": {
   "codemirror_mode": {
    "name": "ipython",
    "version": 3
   },
   "file_extension": ".py",
   "mimetype": "text/x-python",
   "name": "python",
   "nbconvert_exporter": "python",
   "pygments_lexer": "ipython3",
   "version": "3.6.4"
  }
 },
 "nbformat": 4,
 "nbformat_minor": 2
}
