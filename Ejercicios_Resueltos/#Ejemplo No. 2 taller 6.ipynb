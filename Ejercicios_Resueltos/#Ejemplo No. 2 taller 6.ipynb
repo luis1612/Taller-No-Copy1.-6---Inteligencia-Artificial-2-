{
 "cells": [
  {
   "cell_type": "code",
   "execution_count": null,
   "metadata": {},
   "outputs": [
    {
     "data": {
      "text/plain": [
       "<matplotlib.figure.Figure at 0x19187a5ac88>"
      ]
     },
     "metadata": {},
     "output_type": "display_data"
    }
   ],
   "source": [
    "#Conversión de un bytearray que contiene bytes aleatorios en una imagen en escala de grises y en una imagen RGB\n",
    "\n",
    "import cv2\n",
    "import numpy as np\n",
    "from matplotlib import pyplot as plt\n",
    "\n",
    "imagen = cv2.imread('r10.jpg', -1)\n",
    "cv2.imshow('Mostar',imagen)\n",
    "\n",
    "color = ('b','g','r')\n",
    "for canal, col in enumerate(color):\n",
    "    histr = cv2.calcHist([imagen],[canal],None,[256],[0,256])\n",
    "    plt.plot(histr,color = col)\n",
    "    plt.xlim([0,256])\n",
    "plt.title('Escala de color ')\n",
    "plt.show()\n",
    "\n",
    "while True:\n",
    "    tecla = cv2.waitKey(0) & 0xFF     \n",
    "    if tecla == 27: break\n",
    "cv2.destroyAllWindows()"
   ]
  }
 ],
 "metadata": {
  "kernelspec": {
   "display_name": "Python 3",
   "language": "python",
   "name": "python3"
  },
  "language_info": {
   "codemirror_mode": {
    "name": "ipython",
    "version": 3
   },
   "file_extension": ".py",
   "mimetype": "text/x-python",
   "name": "python",
   "nbconvert_exporter": "python",
   "pygments_lexer": "ipython3",
   "version": "3.6.4"
  }
 },
 "nbformat": 4,
 "nbformat_minor": 2
}
