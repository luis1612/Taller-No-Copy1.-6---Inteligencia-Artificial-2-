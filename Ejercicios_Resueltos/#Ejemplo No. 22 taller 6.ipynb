{
 "cells": [
  {
   "cell_type": "code",
   "execution_count": 1,
   "metadata": {},
   "outputs": [
    {
     "name": "stdout",
     "output_type": "stream",
     "text": [
      "result: [[0.]]\n",
      "neighbours: [[0. 1. 0. 0. 1.]]\n",
      "distance: [[0. 1. 0. 0. 1.]]\n"
     ]
    },
    {
     "data": {
      "text/plain": [
       "<matplotlib.figure.Figure at 0x23c768a3828>"
      ]
     },
     "metadata": {},
     "output_type": "display_data"
    }
   ],
   "source": [
    "\n",
    "#Ejemplo de clasificación mediante el algoritmo k-nearest neighbour (kNN).\n",
    "\n",
    "\n",
    "import cv2\n",
    "import numpy as np\n",
    "import matplotlib.pyplot as plt\n",
    " \n",
    "# Feature set containing (x,y) values of 25 known/training data\n",
    "trainData = np.random.randint(0, 100, (25, 2)).astype(np.float32)\n",
    "\n",
    "# Labels each one either Red or Blue with numbers 0 and 1\n",
    "responses = np.random.randint(0, 2, (25, 1)).astype(np.float32)\n",
    " \n",
    "# Take Red families and plot them\n",
    "red = trainData[responses.ravel()==0]\n",
    "plt.scatter(red[:,0], red[:,1], 80, 'r', '^')\n",
    "\n",
    "# Take Blue families and plot them\n",
    "blue = trainData[responses.ravel()==1]\n",
    "plt.scatter(blue[:,0], blue[:,1], 80, 'b', 's')\n",
    "\n",
    "# New object\n",
    "newcomer = np.random.randint(0, 100, (1, 2)).astype(np.float32)\n",
    "plt.scatter(newcomer[:,0], newcomer[:,1], 80, 'g', 'o')\n",
    "\n",
    "# Classification\n",
    "k = 5\n",
    "if cv2.__version__.startswith('2.4'):\n",
    "    knn = cv2.KNearest()\n",
    "    knn.train(trainData, responses)\n",
    "    ret, results, neighbours, dist = knn.find_nearest(newcomer, k)\n",
    "else:\n",
    "    knn = cv2.ml.KNearest_create()\n",
    "    knn.train(trainData, cv2.ml.ROW_SAMPLE, responses)\n",
    "    ret, results, neighbours, dist = knn.findNearest(newcomer, k)\n",
    "\n",
    "print(\"result: \" + str(results))\n",
    "print(\"neighbours: \" + str(neighbours))\n",
    "print(\"distance: \" + str(neighbours))\n",
    "\n",
    "plt.show()"
   ]
  },
  {
   "cell_type": "code",
   "execution_count": null,
   "metadata": {},
   "outputs": [],
   "source": [
    "Conclusión.\n",
    " Conjunto de características que contiene (x, y) valores de 25 datos de entrenamiento, cada uno rojo o azul con los números 0 y 1.tambien se determina familia roja, familia azules\n",
    "    y las clasifica."
   ]
  }
 ],
 "metadata": {
  "kernelspec": {
   "display_name": "Python 3",
   "language": "python",
   "name": "python3"
  },
  "language_info": {
   "codemirror_mode": {
    "name": "ipython",
    "version": 3
   },
   "file_extension": ".py",
   "mimetype": "text/x-python",
   "name": "python",
   "nbconvert_exporter": "python",
   "pygments_lexer": "ipython3",
   "version": "3.6.4"
  }
 },
 "nbformat": 4,
 "nbformat_minor": 2
}
