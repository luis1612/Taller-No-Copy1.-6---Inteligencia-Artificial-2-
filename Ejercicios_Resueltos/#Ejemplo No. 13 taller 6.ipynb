{
 "cells": [
  {
   "cell_type": "code",
   "execution_count": null,
   "metadata": {},
   "outputs": [],
   "source": [
    "#Ejemplo No. 13\n",
    "#Calcular el histograma sobre una imagen en escala de grises y mostrar el gráfico\n",
    "\n",
    "import cv2\n",
    "import numpy as np\n",
    "from matplotlib import pyplot as plt\n",
    "\n",
    "imagen = cv2.imread('home.jpg')\n",
    "\n",
    "cv2.imshow('Imagen', imagen)\n",
    "cv2.waitKey(0)\n",
    "\n",
    "color = ('b','g','r')\n",
    "\n",
    "for i, c in enumerate(Color):\n",
    "    histograma = cv2.calcHist([imagen], [i], None, [256], [0, 256])\n",
    "    plt.plot(histograma, Color = c)\n",
    "    plt.xlim([0,256])\n",
    "\n",
    "plt.show()\n",
    "\n",
    "cv2.destroyAllWindows()\n"
   ]
  },
  {
   "cell_type": "code",
   "execution_count": null,
   "metadata": {},
   "outputs": [],
   "source": []
  }
 ],
 "metadata": {
  "kernelspec": {
   "display_name": "Python 3",
   "language": "python",
   "name": "python3"
  },
  "language_info": {
   "codemirror_mode": {
    "name": "ipython",
    "version": 3
   },
   "file_extension": ".py",
   "mimetype": "text/x-python",
   "name": "python",
   "nbconvert_exporter": "python",
   "pygments_lexer": "ipython3",
   "version": "3.6.4"
  }
 },
 "nbformat": 4,
 "nbformat_minor": 2
}
