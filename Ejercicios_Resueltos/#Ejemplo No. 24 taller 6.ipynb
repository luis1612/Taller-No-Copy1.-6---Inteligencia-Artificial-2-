{
 "cells": [
  {
   "cell_type": "code",
   "execution_count": null,
   "metadata": {},
   "outputs": [],
   "source": [
    "\n",
    "#Cuantización de colores de una imagen.\n",
    "\n",
    "\n",
    "import numpy as np\n",
    "import cv2\n",
    " \n",
    "img = cv2.imread('machu-picchu.jpg')\n",
    "Z = img.reshape((-1,3))\n",
    " \n",
    "# Convert to np.float32\n",
    "Z = np.float32(Z)\n",
    "\n",
    "# Define criteria\n",
    "criteria = (cv2.TERM_CRITERIA_EPS + cv2.TERM_CRITERIA_MAX_ITER, 10, 1.0)\n",
    "\n",
    "# Define number of clusters(K) \n",
    "K = 8\n",
    "\n",
    "# Attempts\n",
    "attempts = 10\n",
    "\n",
    "# Apply kmeans\n",
    "if cv2.__version__.startswith('2.4'):\n",
    "    ret, label, center = cv2.kmeans(Z, K, criteria, attempts, cv2.KMEANS_RANDOM_CENTERS)\n",
    "else:\n",
    "    ret, label, center = cv2.kmeans(Z, K, None, criteria, attempts, cv2.KMEANS_RANDOM_CENTERS)\n",
    "\n",
    "# Now convert back into uint8, and make original image\n",
    "center = np.uint8(center)\n",
    "res = center[label.flatten()]\n",
    "final_image = res.reshape((img.shape))\n",
    "\n",
    "cv2.imshow('Original image', img)\n",
    "cv2.imshow('Color Quantization', final_image)\n",
    "cv2.waitKey(0)\n",
    "cv2.destroyAllWindows()\n",
    "\n",
    "#podemos concluir que la imagen se le dio una sensación animada se ve que se reducen los colores."
   ]
  },
  {
   "cell_type": "code",
   "execution_count": null,
   "metadata": {},
   "outputs": [],
   "source": []
  }
 ],
 "metadata": {
  "kernelspec": {
   "display_name": "Python 3",
   "language": "python",
   "name": "python3"
  },
  "language_info": {
   "codemirror_mode": {
    "name": "ipython",
    "version": 3
   },
   "file_extension": ".py",
   "mimetype": "text/x-python",
   "name": "python",
   "nbconvert_exporter": "python",
   "pygments_lexer": "ipython3",
   "version": "3.6.4"
  }
 },
 "nbformat": 4,
 "nbformat_minor": 2
}
